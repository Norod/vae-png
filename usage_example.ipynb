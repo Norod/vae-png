{
 "cells": [
  {
   "cell_type": "code",
   "execution_count": 1,
   "metadata": {},
   "outputs": [
    {
     "name": "stdout",
     "output_type": "stream",
     "text": [
      "\n",
      "===================================BUG REPORT===================================\n",
      "Welcome to bitsandbytes. For bug reports, please run\n",
      "\n",
      "python -m bitsandbytes\n",
      "\n",
      " and submit this information together with your error trace to: https://github.com/TimDettmers/bitsandbytes/issues\n",
      "================================================================================\n",
      "bin /usr/local/anaconda3/lib/python3.8/site-packages/bitsandbytes/libbitsandbytes_cpu.so\n",
      "'NoneType' object has no attribute 'cadam32bit_grad_fp32'\n",
      "CUDA SETUP: Loading binary /usr/local/anaconda3/lib/python3.8/site-packages/bitsandbytes/libbitsandbytes_cpu.so...\n",
      "dlopen(/usr/local/anaconda3/lib/python3.8/site-packages/bitsandbytes/libbitsandbytes_cpu.so, 0x0006): tried: '/usr/local/anaconda3/lib/python3.8/site-packages/bitsandbytes/libbitsandbytes_cpu.so' (not a mach-o file), '/System/Volumes/Preboot/Cryptexes/OS/usr/local/anaconda3/lib/python3.8/site-packages/bitsandbytes/libbitsandbytes_cpu.so' (no such file), '/usr/local/anaconda3/lib/python3.8/site-packages/bitsandbytes/libbitsandbytes_cpu.so' (not a mach-o file)\n"
     ]
    },
    {
     "name": "stderr",
     "output_type": "stream",
     "text": [
      "/usr/local/anaconda3/lib/python3.8/site-packages/bitsandbytes/cextension.py:34: UserWarning: The installed version of bitsandbytes was compiled without GPU support. 8-bit optimizers, 8-bit multiplication, and GPU quantization are unavailable.\n",
      "  warn(\"The installed version of bitsandbytes was compiled without GPU support. \"\n",
      "/usr/local/anaconda3/lib/python3.8/site-packages/jax/__init__.py:27: UserWarning: cloud_tpu_init failed: ConnectionError(MaxRetryError(\"HTTPConnectionPool(host='metadata.google.internal', port=80): Max retries exceeded with url: /computeMetadata/v1/instance/attributes/agent-worker-number (Caused by NewConnectionError('<urllib3.connection.HTTPConnection object at 0x7fce729db160>: Failed to establish a new connection: [Errno 8] nodename nor servname provided, or not known'))\"))\n",
      " This a JAX bug; please report an issue at https://github.com/google/jax/issues\n",
      "  _warn(f\"cloud_tpu_init failed: {repr(exc)}\\n This a JAX bug; please report \"\n"
     ]
    }
   ],
   "source": [
    "from vaepng import VaeImage\n",
    "vaeimage = VaeImage()\n",
    "vaeimage.load_vae(\"madebyollin/sdxl-vae-fp16-fix\")"
   ]
  },
  {
   "cell_type": "code",
   "execution_count": 2,
   "metadata": {},
   "outputs": [],
   "source": [
    "vaeimage.img2vaepng(input_file = \"test_images/Example00006.jpg\", output_file = \"Example00006_VAE.png\")"
   ]
  },
  {
   "cell_type": "code",
   "execution_count": 3,
   "metadata": {},
   "outputs": [
    {
     "name": "stdout",
     "output_type": "stream",
     "text": [
      "Load reduced latents\n",
      "(120, 120, 4)\n",
      "torch.Size([1, 4, 120, 120])\n",
      "Decode reduced latents\n"
     ]
    }
   ],
   "source": [
    "vaeimage.vaepng2img(input_file = \"Example00006_VAE.png\", output_file = \"Example00006_VAE_decoded.jpg\")"
   ]
  },
  {
   "cell_type": "code",
   "execution_count": 4,
   "metadata": {},
   "outputs": [
    {
     "data": {
      "application/vnd.jupyter.widget-view+json": {
       "model_id": "66b5477a50ac46f08b1c01063c71016d",
       "version_major": 2,
       "version_minor": 0
      },
      "text/plain": [
       "GridBox(children=(HTML(value='Original JPEG image (52 KB)'), HTML(value='VAE encapsulated in PNG (47 KB)'), HT…"
      ]
     },
     "metadata": {},
     "output_type": "display_data"
    }
   ],
   "source": [
    "from PIL import Image\n",
    "import IPython.display as display\n",
    "import ipywidgets as widgets\n",
    "\n",
    "orig_image_data = open('test_images/Example00006.jpg','rb').read()\n",
    "orig_image_data_length = len(orig_image_data)\n",
    "orig_image = widgets.Image(value=orig_image_data, format='jpg', width=256, height=256)\n",
    "vae_image_data=open('Example00006_VAE.png','rb').read()\n",
    "vae_image_data_length = len(vae_image_data)\n",
    "vae_image = widgets.Image(value=vae_image_data, format='png', width=256, height=256)\n",
    "decoded_image_data=open('Example00006_VAE_decoded.jpg','rb').read()\n",
    "decoded_image_data_length = len(decoded_image_data)\n",
    "decoded_image = widgets.Image(value=decoded_image_data, format='jpg', width=256, height=256)\n",
    "images=[orig_image,vae_image,decoded_image]\n",
    "image_titles = [\"Original JPEG image (\" + str(orig_image_data_length // 1024) + \" KB)\", \n",
    "                \"VAE encapsulated in PNG (\" + str(vae_image_data_length // 1024) + \" KB)\", \n",
    "                \"JPEG Image decoded back from PNG (\" + str(decoded_image_data_length // 1024) + \" KB)\"]\n",
    "#Show image titles in the first row and below each title, show the image\n",
    "wid=widgets.GridBox([widgets.HTML(value=title) for title in image_titles] + images, layout=widgets.Layout(grid_template_columns=\"repeat(3, 300px)\"))\n",
    "display.display(wid)\n"
   ]
  }
 ],
 "metadata": {
  "kernelspec": {
   "display_name": "base",
   "language": "python",
   "name": "python3"
  },
  "language_info": {
   "codemirror_mode": {
    "name": "ipython",
    "version": 3
   },
   "file_extension": ".py",
   "mimetype": "text/x-python",
   "name": "python",
   "nbconvert_exporter": "python",
   "pygments_lexer": "ipython3",
   "version": "3.8.8"
  },
  "orig_nbformat": 4
 },
 "nbformat": 4,
 "nbformat_minor": 2
}
